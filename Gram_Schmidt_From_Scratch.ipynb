{
  "nbformat": 4,
  "nbformat_minor": 0,
  "metadata": {
    "colab": {
      "provenance": [],
      "authorship_tag": "ABX9TyOiuy0STX7DBX8gGm9rCrtX",
      "include_colab_link": true
    },
    "kernelspec": {
      "name": "python3",
      "display_name": "Python 3"
    },
    "language_info": {
      "name": "python"
    }
  },
  "cells": [
    {
      "cell_type": "markdown",
      "metadata": {
        "id": "view-in-github",
        "colab_type": "text"
      },
      "source": [
        "<a href=\"https://colab.research.google.com/github/JuliaKurz/2023-MATH-242-Projects/blob/main/Gram_Schmidt_From_Scratch.ipynb\" target=\"_parent\"><img src=\"https://colab.research.google.com/assets/colab-badge.svg\" alt=\"Open In Colab\"/></a>"
      ]
    },
    {
      "cell_type": "code",
      "execution_count": 1,
      "metadata": {
        "id": "A4Tu0sTv1DMm"
      },
      "outputs": [],
      "source": [
        "import matplotlib.pyplot as plt\n",
        "from sympy import Poly\n",
        "import sympy as sym\n",
        "import numpy as np\n",
        "from numpy import c_\n",
        "\n",
        "# We'll specify that x and t are variables:\n",
        "x, t = sym.symbols('x, t')\n",
        "\n",
        "ll = \"loaded\""
      ]
    },
    {
      "cell_type": "markdown",
      "source": [
        "**Implement Gram Schmidt on 4 vectors**"
      ],
      "metadata": {
        "id": "EXrPEKo74VW5"
      }
    },
    {
      "cell_type": "code",
      "source": [
        "r1 = np.array([3,0,3,0])\n",
        "r2 = np.array([3,2,3,3])\n",
        "r3 = np.array([-7,-4,-5,-6])\n",
        "r4 = np.array([-7,-3,-11,2])\n",
        "print(r1)\n",
        "print(r2)\n",
        "print(r3)\n",
        "print(r4)"
      ],
      "metadata": {
        "colab": {
          "base_uri": "https://localhost:8080/"
        },
        "id": "pbWuNXau1Z_D",
        "outputId": "b9deb955-380b-4c6b-aea7-bf295425eaac"
      },
      "execution_count": 2,
      "outputs": [
        {
          "output_type": "stream",
          "name": "stdout",
          "text": [
            "[3 0 3 0]\n",
            "[3 2 3 3]\n",
            "[-7 -4 -5 -6]\n",
            "[ -7  -3 -11   2]\n"
          ]
        }
      ]
    },
    {
      "cell_type": "markdown",
      "source": [
        "**Magnitude of Vectors**"
      ],
      "metadata": {
        "id": "0ezQqDIV3_i5"
      }
    },
    {
      "cell_type": "code",
      "source": [
        "#magnitude of r1\n",
        "m1 = np.sqrt(r1.dot(r1))\n",
        "print(m1)"
      ],
      "metadata": {
        "colab": {
          "base_uri": "https://localhost:8080/"
        },
        "id": "gXAWASfO2Jm9",
        "outputId": "aec37aa7-8755-4735-8e2d-8abc85b93a6f"
      },
      "execution_count": 3,
      "outputs": [
        {
          "output_type": "stream",
          "name": "stdout",
          "text": [
            "4.242640687119285\n"
          ]
        }
      ]
    },
    {
      "cell_type": "code",
      "source": [
        "#magnitude of r2\n",
        "m2 = np.sqrt(r2.dot(r2))\n",
        "print(m2)"
      ],
      "metadata": {
        "colab": {
          "base_uri": "https://localhost:8080/"
        },
        "id": "oz_usl2K3dGM",
        "outputId": "a0631af6-6970-44f7-a9b3-6edb644b7204"
      },
      "execution_count": 4,
      "outputs": [
        {
          "output_type": "stream",
          "name": "stdout",
          "text": [
            "5.5677643628300215\n"
          ]
        }
      ]
    },
    {
      "cell_type": "code",
      "source": [
        "#magnitude of r3\n",
        "m3 = np.sqrt(r3.dot(r3))\n",
        "print(m3)"
      ],
      "metadata": {
        "colab": {
          "base_uri": "https://localhost:8080/"
        },
        "id": "CZesv9jz5ORn",
        "outputId": "d7484de9-a15b-4d8b-8c72-05dad008a55c"
      },
      "execution_count": 5,
      "outputs": [
        {
          "output_type": "stream",
          "name": "stdout",
          "text": [
            "11.224972160321824\n"
          ]
        }
      ]
    },
    {
      "cell_type": "code",
      "source": [
        "#magnitude of r4\n",
        "m4 = np.sqrt(r4.dot(r4))\n",
        "print(m4)"
      ],
      "metadata": {
        "colab": {
          "base_uri": "https://localhost:8080/"
        },
        "id": "AGhlmKGy5TR-",
        "outputId": "7028e1f7-047c-4ba1-a8af-ef0381c3ea5b"
      },
      "execution_count": 6,
      "outputs": [
        {
          "output_type": "stream",
          "name": "stdout",
          "text": [
            "13.527749258468683\n"
          ]
        }
      ]
    },
    {
      "cell_type": "markdown",
      "source": [
        "Process **Vectors**"
      ],
      "metadata": {
        "id": "Fxvp_ymN6KmM"
      }
    },
    {
      "cell_type": "code",
      "source": [
        "t1 = r1\n",
        "m1 = np.sqrt(t1.dot(t1))\n",
        "u1  = (1/m1)*t1\n",
        "print(u1)"
      ],
      "metadata": {
        "colab": {
          "base_uri": "https://localhost:8080/"
        },
        "id": "HDJGrMNG5ZSq",
        "outputId": "d690a6a5-2486-464e-d852-f3b8bef675d1"
      },
      "execution_count": 7,
      "outputs": [
        {
          "output_type": "stream",
          "name": "stdout",
          "text": [
            "[0.70710678 0.         0.70710678 0.        ]\n"
          ]
        }
      ]
    },
    {
      "cell_type": "code",
      "source": [
        "t2 = r2 - r2.dot(u1)*u1\n",
        "m2 = np.sqrt(t2.dot(t2))\n",
        "u2 = (1/m2)*t2\n",
        "print(u2)"
      ],
      "metadata": {
        "colab": {
          "base_uri": "https://localhost:8080/"
        },
        "id": "bO4ymi5X87F8",
        "outputId": "b979dbfc-1e30-42fa-bb04-41998377dcef"
      },
      "execution_count": 12,
      "outputs": [
        {
          "output_type": "stream",
          "name": "stdout",
          "text": [
            "[-1.23168186e-16  5.54700196e-01 -1.23168186e-16  8.32050294e-01]\n"
          ]
        }
      ]
    },
    {
      "cell_type": "code",
      "source": [
        "t3 = r3 - r3.dot(u1)*u1 -r3.dot(u2)*u2\n",
        "m3 = np.sqrt(t3.dot(t3))\n",
        "u3 = (1/m3)*t3\n",
        "print(u3)"
      ],
      "metadata": {
        "id": "9F5EkeL19gRm",
        "colab": {
          "base_uri": "https://localhost:8080/"
        },
        "outputId": "439834f4-e77d-41a1-f32b-1d2b3b6e6dab"
      },
      "execution_count": 13,
      "outputs": [
        {
          "output_type": "stream",
          "name": "stdout",
          "text": [
            "[-7.07106781e-01 -3.14018492e-16  7.07106781e-01 -6.28036983e-16]\n"
          ]
        }
      ]
    },
    {
      "cell_type": "code",
      "source": [
        "t4 = r4 - r4.dot(u1)*u1 -r4.dot(u2)*u2- r4.dot(u3)*u3\n",
        "m4 = np.sqrt(t4.dot(t4))\n",
        "u4 = (1/m4)*t4\n",
        "print(u4)"
      ],
      "metadata": {
        "colab": {
          "base_uri": "https://localhost:8080/"
        },
        "id": "xDNTC-ph7hUU",
        "outputId": "1cfc8f55-c9e9-4816-fb53-0fbb9f88947b"
      },
      "execution_count": 14,
      "outputs": [
        {
          "output_type": "stream",
          "name": "stdout",
          "text": [
            "[ 0.         -0.83205029  0.          0.5547002 ]\n"
          ]
        }
      ]
    },
    {
      "cell_type": "code",
      "source": [
        "#Sanity Check\n",
        "print(\"the side of u1 =\", np.sqrt(u1.dot(u1)))\n",
        "print(\"the side of u2 =\", np.sqrt(u2.dot(u2)))\n",
        "print(\"the side of u3 =\", np.sqrt(u3.dot(u3)))\n",
        "print(\"the side of u4 =\", np.sqrt(u4.dot(u4)))"
      ],
      "metadata": {
        "colab": {
          "base_uri": "https://localhost:8080/"
        },
        "id": "FrmA7qT-7Eg9",
        "outputId": "6454cca2-e05b-49f9-f695-0647ea67f77d"
      },
      "execution_count": 15,
      "outputs": [
        {
          "output_type": "stream",
          "name": "stdout",
          "text": [
            "the side of u1 = 1.0\n",
            "the side of u2 = 1.0\n",
            "the side of u3 = 0.9999999999999999\n",
            "the side of u4 = 1.0\n"
          ]
        }
      ]
    },
    {
      "cell_type": "markdown",
      "source": [
        "Write r1, r2, r3, and r4 in terms of u1, u2,u3,u4"
      ],
      "metadata": {
        "id": "gVPkXGB79UvB"
      }
    },
    {
      "cell_type": "code",
      "source": [
        "print(\"r2=\", r2.dot(u1), \"u1+\", r2.dot(u2), \"u2+\", r2.dot(u3), \"u3+\", r2.dot(u4), \"u4\")"
      ],
      "metadata": {
        "id": "Y8XhbAkc5_sk",
        "colab": {
          "base_uri": "https://localhost:8080/"
        },
        "outputId": "9aae9485-8cb3-4ee0-eb7a-fa273ff9ea97"
      },
      "execution_count": 18,
      "outputs": [
        {
          "output_type": "stream",
          "name": "stdout",
          "text": [
            "r2= 4.242640687119286 u1+ 3.6055512754639887 u2+ -2.3282001602705925e-15 u3+ -4.218847493575595e-15 u4\n"
          ]
        }
      ]
    },
    {
      "cell_type": "code",
      "source": [
        "print(\"r1=\", r1.dot(u1), \"u1+\", r1.dot(u2), \"u2+\", r1.dot(u3), \"u3+\", r1.dot(u4), \"u4\")"
      ],
      "metadata": {
        "colab": {
          "base_uri": "https://localhost:8080/"
        },
        "id": "LiwVt3qn-XXd",
        "outputId": "ec3e3035-ab44-47fd-ba71-5b655935a512"
      },
      "execution_count": 19,
      "outputs": [
        {
          "output_type": "stream",
          "name": "stdout",
          "text": [
            "r1= 4.242640687119286 u1+ -7.390091155360101e-16 u2+ 0.0 u3+ 0.0 u4\n"
          ]
        }
      ]
    },
    {
      "cell_type": "code",
      "source": [
        "print(\"r3=\", r3.dot(u1), \"u1+\", r3.dot(u2), \"u2+\", r3.dot(u3), \"u3+\", r3.dot(u4), \"u4\")"
      ],
      "metadata": {
        "colab": {
          "base_uri": "https://localhost:8080/"
        },
        "id": "I5PgRZ7j-vOB",
        "outputId": "57c38295-3c83-4073-c111-b4f37d772006"
      },
      "execution_count": 20,
      "outputs": [
        {
          "output_type": "stream",
          "name": "stdout",
          "text": [
            "r3= -8.485281374238571 u1+ -7.211102550927977 u2+ 1.4142135623730991 u3+ 8.43769498715119e-15 u4\n"
          ]
        }
      ]
    },
    {
      "cell_type": "code",
      "source": [
        "print(\"r4=\", r4.dot(u1), \"u1+\", r4.dot(u2), \"u2+\", r4.dot(u3), \"u3+\", r4.dot(u4), \"u4\")"
      ],
      "metadata": {
        "colab": {
          "base_uri": "https://localhost:8080/"
        },
        "id": "cLbwZMgj-1lK",
        "outputId": "573e20a6-ebdd-4417-f5be-4bb60d7c9412"
      },
      "execution_count": 21,
      "outputs": [
        {
          "output_type": "stream",
          "name": "stdout",
          "text": [
            "r4= -12.727922061357855 u1+ 2.220446049250313e-15 u2+ -2.8284271247461903 u3+ 3.6055512754639896 u4\n"
          ]
        }
      ]
    }
  ]
}