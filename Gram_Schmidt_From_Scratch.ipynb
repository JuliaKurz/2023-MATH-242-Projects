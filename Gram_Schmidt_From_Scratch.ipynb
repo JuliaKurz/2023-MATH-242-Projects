{
  "nbformat": 4,
  "nbformat_minor": 0,
  "metadata": {
    "colab": {
      "provenance": [],
      "authorship_tag": "ABX9TyNPWVs3lVnrUHn+H4CDrp9/",
      "include_colab_link": true
    },
    "kernelspec": {
      "name": "python3",
      "display_name": "Python 3"
    },
    "language_info": {
      "name": "python"
    }
  },
  "cells": [
    {
      "cell_type": "markdown",
      "metadata": {
        "id": "view-in-github",
        "colab_type": "text"
      },
      "source": [
        "<a href=\"https://colab.research.google.com/github/JuliaKurz/2023-MATH-242-Projects/blob/main/Gram_Schmidt_From_Scratch.ipynb\" target=\"_parent\"><img src=\"https://colab.research.google.com/assets/colab-badge.svg\" alt=\"Open In Colab\"/></a>"
      ]
    },
    {
      "cell_type": "code",
      "execution_count": 1,
      "metadata": {
        "id": "A4Tu0sTv1DMm"
      },
      "outputs": [],
      "source": [
        "import matplotlib.pyplot as plt\n",
        "from sympy import Poly\n",
        "import sympy as sym\n",
        "import numpy as np\n",
        "from numpy import c_\n",
        "\n",
        "# We'll specify that x and t are variables:\n",
        "x, t = sym.symbols('x, t')\n",
        "\n",
        "ll = \"loaded\""
      ]
    },
    {
      "cell_type": "markdown",
      "source": [
        "**Implement Gram Schmidt on 4 vectors**"
      ],
      "metadata": {
        "id": "EXrPEKo74VW5"
      }
    },
    {
      "cell_type": "code",
      "source": [
        "r1 = np.array([3,0,3,0])\n",
        "r2 = np.array([3,2,3,3])\n",
        "r3 = np.array([-7,-4,-5,-6])\n",
        "r4 = np.array([-7,-3,-11,2])\n",
        "print(r1)\n",
        "print(r2)\n",
        "print(r3)\n",
        "print(r4)"
      ],
      "metadata": {
        "colab": {
          "base_uri": "https://localhost:8080/"
        },
        "id": "pbWuNXau1Z_D",
        "outputId": "dba0ac87-4e62-4e39-e52f-a3317bd567c5"
      },
      "execution_count": 10,
      "outputs": [
        {
          "output_type": "stream",
          "name": "stdout",
          "text": [
            "[3 0 3 0]\n",
            "[3 2 3 3]\n",
            "[-7 -4 -5 -6]\n",
            "[ -7  -3 -11   2]\n"
          ]
        }
      ]
    },
    {
      "cell_type": "markdown",
      "source": [
        "**Magnitude of Vectors**"
      ],
      "metadata": {
        "id": "0ezQqDIV3_i5"
      }
    },
    {
      "cell_type": "code",
      "source": [
        "#magnitude of r1\n",
        "m1 = np.sqrt(r1.dot(r1))\n",
        "print(m1)"
      ],
      "metadata": {
        "colab": {
          "base_uri": "https://localhost:8080/"
        },
        "id": "gXAWASfO2Jm9",
        "outputId": "7e4f7a79-e930-43dc-faeb-cde0211fcc2a"
      },
      "execution_count": 15,
      "outputs": [
        {
          "output_type": "stream",
          "name": "stdout",
          "text": [
            "4.242640687119285\n"
          ]
        }
      ]
    },
    {
      "cell_type": "code",
      "source": [
        "#magnitude of r2\n",
        "m2 = np.sqrt(r2.dot(r2))\n",
        "print(m2)"
      ],
      "metadata": {
        "colab": {
          "base_uri": "https://localhost:8080/"
        },
        "id": "oz_usl2K3dGM",
        "outputId": "c116ec63-c841-45a5-8b80-1ec8ce262fde"
      },
      "execution_count": 16,
      "outputs": [
        {
          "output_type": "stream",
          "name": "stdout",
          "text": [
            "5.5677643628300215\n"
          ]
        }
      ]
    },
    {
      "cell_type": "code",
      "source": [
        "#magnitude of r3\n",
        "m3 = np.sqrt(r3.dot(r3))\n",
        "print(m3)"
      ],
      "metadata": {
        "colab": {
          "base_uri": "https://localhost:8080/"
        },
        "id": "CZesv9jz5ORn",
        "outputId": "73d00534-381e-4bd0-ba43-70eba216612c"
      },
      "execution_count": 17,
      "outputs": [
        {
          "output_type": "stream",
          "name": "stdout",
          "text": [
            "11.224972160321824\n"
          ]
        }
      ]
    },
    {
      "cell_type": "code",
      "source": [
        "#magnitude of r4\n",
        "m4 = np.sqrt(r4.dot(r4))\n",
        "print(m4)"
      ],
      "metadata": {
        "colab": {
          "base_uri": "https://localhost:8080/"
        },
        "id": "AGhlmKGy5TR-",
        "outputId": "93cd8bc8-36a3-4b3f-d963-05e3f4eeb7bd"
      },
      "execution_count": 18,
      "outputs": [
        {
          "output_type": "stream",
          "name": "stdout",
          "text": [
            "13.527749258468683\n"
          ]
        }
      ]
    },
    {
      "cell_type": "markdown",
      "source": [
        "Process **Vectors**"
      ],
      "metadata": {
        "id": "Fxvp_ymN6KmM"
      }
    },
    {
      "cell_type": "code",
      "source": [
        "t1 = r1\n",
        "u1  = (1/m1)*t1\n",
        "print(u1)"
      ],
      "metadata": {
        "colab": {
          "base_uri": "https://localhost:8080/"
        },
        "id": "HDJGrMNG5ZSq",
        "outputId": "b1ef69e6-e1a0-4cb2-9c2f-ac74021f002a"
      },
      "execution_count": 25,
      "outputs": [
        {
          "output_type": "stream",
          "name": "stdout",
          "text": [
            "[0.70710678 0.         0.70710678 0.        ]\n"
          ]
        }
      ]
    },
    {
      "cell_type": "code",
      "source": [
        "t2 = r2 - r2.dot(u1)*u1\n",
        "u2 = (1/m2)*t2\n",
        "print(u2)"
      ],
      "metadata": {
        "colab": {
          "base_uri": "https://localhost:8080/"
        },
        "id": "bO4ymi5X87F8",
        "outputId": "2d20444e-f413-401e-c8f6-9a57d711cec7"
      },
      "execution_count": 38,
      "outputs": [
        {
          "output_type": "stream",
          "name": "stdout",
          "text": [
            "[-7.97607767e-17  3.59210604e-01 -7.97607767e-17  5.38815906e-01]\n"
          ]
        }
      ]
    },
    {
      "cell_type": "code",
      "source": [],
      "metadata": {
        "id": "9F5EkeL19gRm"
      },
      "execution_count": null,
      "outputs": []
    },
    {
      "cell_type": "code",
      "source": [
        "#Sanity Check\n",
        "print(\"the side of u1 =\", np.sqrt(u1.dot(u1)))\n",
        "print(\"the side of u2 =\", np.sqrt(u2.dot(u2)))\n",
        "print(\"the side of u3 =\", np.sqrt(u3.dot(u3)))\n",
        "print(\"the side of u4 =\", np.sqrt(u4.dot(u4)))"
      ],
      "metadata": {
        "colab": {
          "base_uri": "https://localhost:8080/",
          "height": 252
        },
        "id": "FrmA7qT-7Eg9",
        "outputId": "47d4c935-57a3-431c-b903-04bc2db6ea87"
      },
      "execution_count": 37,
      "outputs": [
        {
          "output_type": "stream",
          "name": "stdout",
          "text": [
            "the side of u1 = 1.0\n",
            "the side of u2 = 0.6475761258027333\n",
            "the side of u3 = 0.5895069967765166\n"
          ]
        },
        {
          "output_type": "error",
          "ename": "NameError",
          "evalue": "ignored",
          "traceback": [
            "\u001b[0;31m---------------------------------------------------------------------------\u001b[0m",
            "\u001b[0;31mNameError\u001b[0m                                 Traceback (most recent call last)",
            "\u001b[0;32m<ipython-input-37-5124c704eeb3>\u001b[0m in \u001b[0;36m<module>\u001b[0;34m\u001b[0m\n\u001b[1;32m      3\u001b[0m \u001b[0mprint\u001b[0m\u001b[0;34m(\u001b[0m\u001b[0;34m\"the side of u2 =\"\u001b[0m\u001b[0;34m,\u001b[0m \u001b[0mnp\u001b[0m\u001b[0;34m.\u001b[0m\u001b[0msqrt\u001b[0m\u001b[0;34m(\u001b[0m\u001b[0mu2\u001b[0m\u001b[0;34m.\u001b[0m\u001b[0mdot\u001b[0m\u001b[0;34m(\u001b[0m\u001b[0mu2\u001b[0m\u001b[0;34m)\u001b[0m\u001b[0;34m)\u001b[0m\u001b[0;34m)\u001b[0m\u001b[0;34m\u001b[0m\u001b[0;34m\u001b[0m\u001b[0m\n\u001b[1;32m      4\u001b[0m \u001b[0mprint\u001b[0m\u001b[0;34m(\u001b[0m\u001b[0;34m\"the side of u3 =\"\u001b[0m\u001b[0;34m,\u001b[0m \u001b[0mnp\u001b[0m\u001b[0;34m.\u001b[0m\u001b[0msqrt\u001b[0m\u001b[0;34m(\u001b[0m\u001b[0mu3\u001b[0m\u001b[0;34m.\u001b[0m\u001b[0mdot\u001b[0m\u001b[0;34m(\u001b[0m\u001b[0mu3\u001b[0m\u001b[0;34m)\u001b[0m\u001b[0;34m)\u001b[0m\u001b[0;34m)\u001b[0m\u001b[0;34m\u001b[0m\u001b[0;34m\u001b[0m\u001b[0m\n\u001b[0;32m----> 5\u001b[0;31m \u001b[0mprint\u001b[0m\u001b[0;34m(\u001b[0m\u001b[0;34m\"the side of u4 =\"\u001b[0m\u001b[0;34m,\u001b[0m \u001b[0mnp\u001b[0m\u001b[0;34m.\u001b[0m\u001b[0msqrt\u001b[0m\u001b[0;34m(\u001b[0m\u001b[0mu4\u001b[0m\u001b[0;34m.\u001b[0m\u001b[0mdot\u001b[0m\u001b[0;34m(\u001b[0m\u001b[0mu4\u001b[0m\u001b[0;34m)\u001b[0m\u001b[0;34m)\u001b[0m\u001b[0;34m)\u001b[0m\u001b[0;34m\u001b[0m\u001b[0;34m\u001b[0m\u001b[0m\n\u001b[0m",
            "\u001b[0;31mNameError\u001b[0m: name 'u4' is not defined"
          ]
        }
      ]
    },
    {
      "cell_type": "code",
      "source": [],
      "metadata": {
        "id": "Y8XhbAkc5_sk"
      },
      "execution_count": null,
      "outputs": []
    }
  ]
}